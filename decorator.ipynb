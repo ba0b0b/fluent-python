{
 "cells": [
  {
   "cell_type": "markdown",
   "metadata": {},
   "source": [
    "## decorator \n",
    "### 1. 기본 개념\n",
    "decorator는 생소한 개념이다. flask 를 쓸 때 @ 표시를 보았던 기억이 나는데 급하게 코딩하느라 천천히 의미 파악할 시간이 없었다. decorator 함수를 정의하는 규칙은 decorator 함수 정의에 인자로 함수를 전달하며 (함수 포인터 처럼) 내부에서는 decorated 된 함수를 정의한다. decorated 된 함수에서는 인자로 전달되는 함수의 전후에 특정한 작업들을 수행한다. 마지막으로 decorator 함수의 리턴값으로 decorated 함수를 리턴한다. "
   ]
  },
  {
   "cell_type": "code",
   "execution_count": 5,
   "metadata": {},
   "outputs": [],
   "source": [
    "def hello_decorator(func):\n",
    "    def decorated():\n",
    "        print('Hello!')\n",
    "        func()\n",
    "        print('Nice to meet you')\n",
    "    return decorated "
   ]
  },
  {
   "cell_type": "markdown",
   "metadata": {},
   "source": [
    "decorator 함수는 아래와 같이 @decorator함수명으로 호출하며 뒤에는 decorator로 감쌀 함수가 위치하게 된다. "
   ]
  },
  {
   "cell_type": "code",
   "execution_count": 6,
   "metadata": {},
   "outputs": [],
   "source": [
    "@hello_decorator\n",
    "def test():\n",
    "    print('I\\'m Billy')"
   ]
  },
  {
   "cell_type": "code",
   "execution_count": 7,
   "metadata": {},
   "outputs": [
    {
     "name": "stdout",
     "output_type": "stream",
     "text": [
      "Hello!\n",
      "I'm Billy\n",
      "Nice to meet you\n"
     ]
    }
   ],
   "source": [
    "test()"
   ]
  },
  {
   "cell_type": "markdown",
   "metadata": {},
   "source": [
    "위와 같이 실제 함수 test의 전후에 'Hello'와 'Nice to meet you' 가 '장식' 되었다. "
   ]
  },
  {
   "cell_type": "markdown",
   "metadata": {},
   "source": [
    "decorator의 이러한 특정을 이용하여 여러함수의 내부에서 반복적인 작업을 수행하는 공통 부분을 decorator로 빼서 코드의 재사용성을 높일 수 있다. 아래의 예시를 한번 살펴보자"
   ]
  },
  {
   "cell_type": "code",
   "execution_count": 9,
   "metadata": {},
   "outputs": [],
   "source": [
    "from datetime import datetime\n",
    "\n",
    "def timecost(func):\n",
    "    def decorated():\n",
    "        start =datetime.now()\n",
    "        func()\n",
    "        end=datetime.now()\n",
    "        print('timecost', end-start)\n",
    "    return decorated"
   ]
  },
  {
   "cell_type": "code",
   "execution_count": 11,
   "metadata": {},
   "outputs": [],
   "source": [
    "import time\n",
    "\n",
    "@timecost\n",
    "def task1():\n",
    "    time.sleep(3)\n",
    "    print('hello, this is task1 ')\n",
    "\n",
    "@timecost\n",
    "def task2():\n",
    "    time.sleep(6)\n",
    "    print('hello, this is task2 ')\n",
    "\n",
    "@timecost\n",
    "def task3():\n",
    "    time.sleep(9)\n",
    "    print('hello, this is task3')\n"
   ]
  },
  {
   "cell_type": "code",
   "execution_count": 12,
   "metadata": {},
   "outputs": [
    {
     "name": "stdout",
     "output_type": "stream",
     "text": [
      "hello, this is task1 \n",
      "timecost 0:00:03.003984\n",
      "hello, this is task2 \n",
      "timecost 0:00:06.002445\n",
      "hello, this is task3\n",
      "timecost 0:00:09.005437\n"
     ]
    }
   ],
   "source": [
    "task1()\n",
    "task2()\n",
    "task3()"
   ]
  },
  {
   "cell_type": "markdown",
   "metadata": {},
   "source": [
    "### 2. decorator를 class로 만들어 보기 "
   ]
  },
  {
   "cell_type": "code",
   "execution_count": 14,
   "metadata": {},
   "outputs": [],
   "source": [
    "from datetime import datetime \n",
    "\n",
    "class Timecost():\n",
    "    def __init__(self, func): \n",
    "        self.func=func\n",
    "    \n",
    "    def __call__(self):\n",
    "        start =datetime.now()\n",
    "        self.func()\n",
    "        end=datetime.now()\n",
    "        print('timecost', end-start)"
   ]
  },
  {
   "cell_type": "code",
   "execution_count": 15,
   "metadata": {},
   "outputs": [],
   "source": [
    "import time\n",
    "\n",
    "@Timecost\n",
    "def task1():\n",
    "    time.sleep(3)\n",
    "    print('hello, this is task1 ')\n",
    "\n",
    "@Timecost\n",
    "def task2():\n",
    "    time.sleep(6)\n",
    "    print('hello, this is task2 ')\n",
    "\n",
    "@Timecost\n",
    "def task3():\n",
    "    time.sleep(9)\n",
    "    print('hello, this is task3')\n"
   ]
  },
  {
   "cell_type": "code",
   "execution_count": 16,
   "metadata": {},
   "outputs": [
    {
     "name": "stdout",
     "output_type": "stream",
     "text": [
      "hello, this is task1 \n",
      "timecost 0:00:03.005323\n",
      "hello, this is task2 \n",
      "timecost 0:00:06.002050\n",
      "hello, this is task3\n",
      "timecost 0:00:09.003981\n"
     ]
    }
   ],
   "source": [
    "task1()\n",
    "task2()\n",
    "task3()"
   ]
  },
  {
   "cell_type": "markdown",
   "metadata": {},
   "source": [
    "### 3. 실제 프레임 워크에서의 사용 예제 \n",
    "웹 어플리케이션 프레임워크인 flask에서의 사용 "
   ]
  },
  {
   "cell_type": "code",
   "execution_count": 1,
   "metadata": {},
   "outputs": [],
   "source": [
    "from flask import Flask\n",
    "\n",
    "app=Flask(__name__)\n",
    "\n",
    "@app.route('/')\n",
    "def hello_world():\n",
    "    return 'Hello world'"
   ]
  },
  {
   "cell_type": "markdown",
   "metadata": {},
   "source": [
    ">TBD : 프레임워크 사용 예제로 좀 더 이해하기 쉬운 예제가 필요함..."
   ]
  },
  {
   "cell_type": "code",
   "execution_count": null,
   "metadata": {},
   "outputs": [],
   "source": []
  }
 ],
 "metadata": {
  "kernelspec": {
   "display_name": "Python 3",
   "language": "python",
   "name": "python3"
  },
  "language_info": {
   "codemirror_mode": {
    "name": "ipython",
    "version": 3
   },
   "file_extension": ".py",
   "mimetype": "text/x-python",
   "name": "python",
   "nbconvert_exporter": "python",
   "pygments_lexer": "ipython3",
   "version": "3.7.2"
  }
 },
 "nbformat": 4,
 "nbformat_minor": 2
}
