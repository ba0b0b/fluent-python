{
 "cells": [
  {
   "cell_type": "markdown",
   "metadata": {},
   "source": [
    "## generator\n",
    "generator는 대용량 반복을 수행해야 할 때 메모리를 효율적으로 사용하기 위한 도구이다.  실제 값을 반환한다는 점에서 return 과 유사해 보이지만 for loop 안에서 호출되면서 'next()' 라는 연산을 이용해 다음 loop가 돌 수 있도록 한다는 점에서 차이가 있다. 다음은 generator 의 로직 흐름을 이해하기 위한 예제이다.\n",
    "\n",
    "일단 return 과의 비교를 위해 return 부터 살펴보자 "
   ]
  },
  {
   "cell_type": "code",
   "execution_count": 1,
   "metadata": {},
   "outputs": [],
   "source": [
    "import random\n",
    "\n",
    "def randnum_return():\n",
    "    a=random.randint(0,100)    \n",
    "    for i in range(0,10):\n",
    "        return a \n",
    "        print ('hello')"
   ]
  },
  {
   "cell_type": "code",
   "execution_count": 2,
   "metadata": {},
   "outputs": [
    {
     "name": "stdout",
     "output_type": "stream",
     "text": [
      "68\n",
      "90\n",
      "82\n"
     ]
    }
   ],
   "source": [
    "result=randnum_return()\n",
    "print(result)\n",
    "\n",
    "result=randnum_return()\n",
    "print(result)\n",
    "\n",
    "result=randnum_return()\n",
    "print(result)"
   ]
  },
  {
   "cell_type": "markdown",
   "metadata": {},
   "source": [
    "위와 같이 randnum_return 함수가 호출 될 때마다 random 값이 바뀌며, return 이후의 hello는 호출되지 않는다. \n",
    "그렇다면 유사한 함수를 yield를 이용해 generator로 만들어 보자.  "
   ]
  },
  {
   "cell_type": "code",
   "execution_count": 3,
   "metadata": {},
   "outputs": [],
   "source": [
    "def randnum_yield():\n",
    "    a=random.randint(0,100)    \n",
    "    for i in range(0,10):\n",
    "        yield a \n",
    "        print ('hello')"
   ]
  },
  {
   "cell_type": "code",
   "execution_count": 4,
   "metadata": {},
   "outputs": [
    {
     "name": "stdout",
     "output_type": "stream",
     "text": [
      "<generator object randnum_yield at 0x102b501b0>\n"
     ]
    }
   ],
   "source": [
    "result=randnum_yield()\n",
    "print(result)"
   ]
  },
  {
   "cell_type": "markdown",
   "metadata": {},
   "source": [
    "위와 같이 yield를 통한 generator의 첫번째 반환 값은 generator object 자체이다. generator object 에 next() 연산을 통해서 실제 yield 하는 값을 받아 올 수 있다. "
   ]
  },
  {
   "cell_type": "code",
   "execution_count": 5,
   "metadata": {},
   "outputs": [
    {
     "name": "stdout",
     "output_type": "stream",
     "text": [
      "27\n"
     ]
    }
   ],
   "source": [
    "print (next(result))"
   ]
  },
  {
   "cell_type": "code",
   "execution_count": 6,
   "metadata": {},
   "outputs": [
    {
     "name": "stdout",
     "output_type": "stream",
     "text": [
      "hello\n",
      "27\n"
     ]
    }
   ],
   "source": [
    "print(next(result))"
   ]
  },
  {
   "cell_type": "code",
   "execution_count": 7,
   "metadata": {},
   "outputs": [
    {
     "name": "stdout",
     "output_type": "stream",
     "text": [
      "hello\n",
      "27\n"
     ]
    }
   ],
   "source": [
    "print(next(result))"
   ]
  },
  {
   "cell_type": "markdown",
   "metadata": {},
   "source": [
    "세번의 next() 호출을 통해서 로직의 흐름을 파악할 수 있다. next()가 호출 될 때 generator는 yield로 값을 받아 온 후, 함수 내의 실행흐름을 정지하고 있다가 '다음 'next()가 호출 되면 다시 실행을 시작해서 다음 loop 의 yield 실행 후 멈춘다. 따라서 yield 다음의 hello 가 출력된다. 하지만 함수 전체가 다시 호출 되는 것은 아니고 yield 에서 yield 사이의 흐름만 실행되는 것이므로 for loop 을 벗어날 수는 없다. 항상 같은 랜덤 값이 출력되는 것으로 이것을 확인할 수 있다. \n",
    "\n",
    "그렇다면 대체 이러한 generator를 왜 사용하는 것이냐 하는 의문이 남는데 실제 사용 목적은 데이터 분석과 깊은 관련이 있다. (다음 시간에...)"
   ]
  },
  {
   "cell_type": "code",
   "execution_count": null,
   "metadata": {},
   "outputs": [],
   "source": []
  }
 ],
 "metadata": {
  "kernelspec": {
   "display_name": "Python 3",
   "language": "python",
   "name": "python3"
  },
  "language_info": {
   "codemirror_mode": {
    "name": "ipython",
    "version": 3
   },
   "file_extension": ".py",
   "mimetype": "text/x-python",
   "name": "python",
   "nbconvert_exporter": "python",
   "pygments_lexer": "ipython3",
   "version": "3.7.2"
  }
 },
 "nbformat": 4,
 "nbformat_minor": 2
}
