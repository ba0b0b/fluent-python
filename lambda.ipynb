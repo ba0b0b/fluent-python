{
 "cells": [
  {
   "cell_type": "markdown",
   "metadata": {},
   "source": [
    "## Lambda\n",
    "lambda 는 def 라는 정의를 통해서 함수를 만드는 것이 아니라 간단한 표현식으로 함수를 만드는 방법이다. "
   ]
  },
  {
   "cell_type": "code",
   "execution_count": 2,
   "metadata": {},
   "outputs": [
    {
     "data": {
      "text/plain": [
       "<function __main__.<lambda>(x)>"
      ]
     },
     "execution_count": 2,
     "metadata": {},
     "output_type": "execute_result"
    }
   ],
   "source": [
    "lambda x:x+10"
   ]
  },
  {
   "cell_type": "markdown",
   "metadata": {},
   "source": [
    "호출은 다음과 같이 할 수 있다. "
   ]
  },
  {
   "cell_type": "code",
   "execution_count": 3,
   "metadata": {},
   "outputs": [
    {
     "data": {
      "text/plain": [
       "12"
      ]
     },
     "execution_count": 3,
     "metadata": {},
     "output_type": "execute_result"
    }
   ],
   "source": [
    "(lambda x:x+11)(1)"
   ]
  },
  {
   "cell_type": "markdown",
   "metadata": {},
   "source": [
    "그렇다면 과연 lambda는 언제 쓰일까, 위와 같이 이름이 없는 익명의 함수처럼 쓰인다는 것을 추정할 수 있지만 왜 쓰는지는 잘 모르겠다. 아래의 예시를 통해서 실제 사용 예제를 살펴 보자 "
   ]
  },
  {
   "cell_type": "code",
   "execution_count": 5,
   "metadata": {},
   "outputs": [
    {
     "data": {
      "text/plain": [
       "[11, 12, 13]"
      ]
     },
     "execution_count": 5,
     "metadata": {},
     "output_type": "execute_result"
    }
   ],
   "source": [
    "list (map(lambda x: x+10, [1,2,3]))"
   ]
  },
  {
   "cell_type": "markdown",
   "metadata": {},
   "source": [
    "변수는 하나만 쓸수 있는 것은 아니고 다음과 같이 두개도 가능하다."
   ]
  },
  {
   "cell_type": "code",
   "execution_count": 10,
   "metadata": {},
   "outputs": [
    {
     "data": {
      "text/plain": [
       "50"
      ]
     },
     "execution_count": 10,
     "metadata": {},
     "output_type": "execute_result"
    }
   ],
   "source": [
    "(lambda x, y: x*y)(5,10)"
   ]
  },
  {
   "cell_type": "markdown",
   "metadata": {},
   "source": [
    "함수가 다른 함수의 인수로 들어 갈 때 굳이 별도의 이름을 붙여줄 필요가 없을 경우에 유용할 것 같다. lambda 때문에 되는 기능이 별도로 존재하는 것이 아니라 편의성을 위한 코딩 스타일에 가깝다. "
   ]
  },
  {
   "cell_type": "markdown",
   "metadata": {},
   "source": [
    "구글링을 통해 실제 사용 예제를 보니 주로 sorted 를 호출 할 때 key function으로 많이 사용하는 것을 볼 수 있었다. [python doc](https://docs.python.org/3/howto/sorting.html?highlight=sorting#key-functions) \n",
    "\n",
    "> The value of the key parameter should be a function that takes a single argument and returns a key to use for sorting purposes.\n",
    "\n",
    "key 라는 parameter 는 함수 이어야 하는데 하나의 인수를 받아서 정렬에 사용될 key를 반환한다고 적혀 있다. 아래는 실제 sorted 함수가 lambda와 함께 사용되는예시이다. "
   ]
  },
  {
   "cell_type": "code",
   "execution_count": 7,
   "metadata": {},
   "outputs": [
    {
     "data": {
      "text/plain": [
       "[('dave', 'B', 10), ('Jane', 'B', 12), ('John', 'A', 15)]"
      ]
     },
     "execution_count": 7,
     "metadata": {},
     "output_type": "execute_result"
    }
   ],
   "source": [
    "student_tuples=[ ('John', 'A', 15), \n",
    "                            ('Jane','B', 12),\n",
    "                            ('dave','B', 10), ]\n",
    "sorted(student_tuples, key=lambda student: student[2])"
   ]
  },
  {
   "cell_type": "code",
   "execution_count": 9,
   "metadata": {},
   "outputs": [
    {
     "data": {
      "text/plain": [
       "[('John', 'A', 15), ('Jane', 'B', 12), ('dave', 'B', 10)]"
      ]
     },
     "execution_count": 9,
     "metadata": {},
     "output_type": "execute_result"
    }
   ],
   "source": [
    "student_tuples=[ ('John', 'A', 15), \n",
    "                            ('Jane','B', 12),\n",
    "                            ('dave','B', 10), ]\n",
    "sorted(student_tuples, key=lambda student: student[2], reverse=True)"
   ]
  },
  {
   "cell_type": "markdown",
   "metadata": {},
   "source": [
    "정리하자면,  sorted 함수는 list, tuple 등 자료 구조를 첫번째 인수로 받고, 두번째 인수인 key 라는 parameter는 그것들을 자료구조의 원소들을 하나씩 반환해 가며 key 값을 반환하는 함수, 세번째 인수인 reverse 는 그 boolean 값에 따라서 오름 차순인지 내림 차순인지 값으로 구성된다. \n",
    "\n",
    "여기서 함수를 key에 넘겨줘야 하는데 def 로 정의하느니 간단하게 함수 내에서 lamda로 정의해서 호출하면 된다는 뜻이다. "
   ]
  }
 ],
 "metadata": {
  "kernelspec": {
   "display_name": "Python 3",
   "language": "python",
   "name": "python3"
  },
  "language_info": {
   "codemirror_mode": {
    "name": "ipython",
    "version": 3
   },
   "file_extension": ".py",
   "mimetype": "text/x-python",
   "name": "python",
   "nbconvert_exporter": "python",
   "pygments_lexer": "ipython3",
   "version": "3.7.2"
  }
 },
 "nbformat": 4,
 "nbformat_minor": 2
}
